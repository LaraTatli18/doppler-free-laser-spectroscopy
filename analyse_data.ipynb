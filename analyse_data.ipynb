{
 "cells": [
  {
   "cell_type": "code",
   "execution_count": 1,
   "metadata": {},
   "outputs": [],
   "source": [
    "import numpy as np\n",
    "import matplotlib.pyplot as plt\n",
    "from scipy.optimize import curve_fit\n",
    "from scipy.signal import find_peaks\n",
    "from scipy import constants\n",
    "import uncertainties as u\n",
    "import uncertainties.unumpy as unp\n",
    "from uncertainties import ufloat\n",
    "from uncertainties.unumpy import uarray"
   ]
  },
  {
   "cell_type": "code",
   "execution_count": 2,
   "metadata": {},
   "outputs": [],
   "source": [
    "#file locations\n",
    "CALIBRATION_DIR = \"Data\\calibration_data_29_11_2\\\\\"\n",
    "SPECTRUM_DIR = \"Data\\spectrum_data_29_11_2\\\\\"\n",
    "\n",
    "#measurement info\n",
    "\n",
    "N_MEASUREMENTS = 100\n",
    "N_POINTS= 5000000"
   ]
  },
  {
   "cell_type": "code",
   "execution_count": 3,
   "metadata": {},
   "outputs": [],
   "source": [
    "#Calculate the mean and standard deviations of both data sets\n",
    "\n",
    "#calculating means\n",
    "mean_spectrum_ch1_unscaled=np.zeros(N_POINTS)\n",
    "mean_spectrum_ch2_unscaled=np.zeros(N_POINTS)\n",
    "mean_calibration_ch1_unscaled=np.zeros(N_POINTS)\n",
    "mean_calibration_ch2_unscaled=np.zeros(N_POINTS)\n",
    "\n",
    "#sum values\n",
    "for i in range(N_MEASUREMENTS):\n",
    "    mean_spectrum_ch1_unscaled+=np.fromfile(SPECTRUM_DIR+\"ch1_{}.bin\".format(i),dtype='int8')\n",
    "    mean_spectrum_ch2_unscaled+=np.fromfile(SPECTRUM_DIR+\"ch2_{}.bin\".format(i),dtype='int8')\n",
    "    mean_calibration_ch1_unscaled+=np.fromfile(CALIBRATION_DIR+\"ch1_{}.bin\".format(i),dtype='int8')\n",
    "    mean_calibration_ch2_unscaled+=np.fromfile(CALIBRATION_DIR+\"ch2_{}.bin\".format(i),dtype='int8')\n",
    "\n",
    "#divide by number of values\n",
    "mean_spectrum_ch1_unscaled=mean_spectrum_ch1_unscaled/N_MEASUREMENTS\n",
    "mean_spectrum_ch2_unscaled=mean_spectrum_ch2_unscaled/N_MEASUREMENTS\n",
    "mean_calibration_ch1_unscaled=mean_calibration_ch1_unscaled/N_MEASUREMENTS\n",
    "mean_calibration_ch2_unscaled=mean_calibration_ch2_unscaled/N_MEASUREMENTS\n",
    "\n",
    "#calculating standard deviations\n",
    "std_spectrum_ch1_unscaled=np.zeros(N_POINTS)\n",
    "std_spectrum_ch2_unscaled=np.zeros(N_POINTS)\n",
    "std_calibration_ch1_unscaled=np.zeros(N_POINTS)\n",
    "std_calibration_ch2_unscaled=np.zeros(N_POINTS)\n",
    "\n",
    "#sum deviations squared\n",
    "for i in range(N_MEASUREMENTS):\n",
    "    std_spectrum_ch1_unscaled+=(np.fromfile(SPECTRUM_DIR+\"ch1_{}.bin\".format(i),dtype='int8')-mean_spectrum_ch1_unscaled)**2\n",
    "    std_spectrum_ch2_unscaled+=(np.fromfile(SPECTRUM_DIR+\"ch2_{}.bin\".format(i),dtype='int8')-mean_spectrum_ch2_unscaled)**2\n",
    "    std_calibration_ch1_unscaled+=(np.fromfile(CALIBRATION_DIR+\"ch1_{}.bin\".format(i),dtype='int8')-mean_calibration_ch1_unscaled)**2\n",
    "    std_calibration_ch2_unscaled+=(np.fromfile(CALIBRATION_DIR+\"ch2_{}.bin\".format(i),dtype='int8')-mean_calibration_ch2_unscaled)**2\n",
    "\n",
    "#divide by the degrees of freedom\n",
    "std_spectrum_ch1_unscaled=np.sqrt(std_spectrum_ch1_unscaled/(N_MEASUREMENTS-1))\n",
    "std_spectrum_ch2_unscaled=np.sqrt(std_spectrum_ch2_unscaled/(N_MEASUREMENTS-1))\n",
    "std_calibration_ch1_unscaled=np.sqrt(std_calibration_ch1_unscaled/(N_MEASUREMENTS-1))\n",
    "std_calibration_ch2_unscaled=np.sqrt(std_calibration_ch2_unscaled/(N_MEASUREMENTS-1))"
   ]
  },
  {
   "cell_type": "code",
   "execution_count": 4,
   "metadata": {},
   "outputs": [],
   "source": [
    "#generate unscaled time data\n",
    "\n",
    "spectrum_time_ch1_unscaled=np.arange(0,N_POINTS)\n",
    "calibration_time_ch1_unscaled=np.arange(0,N_POINTS)\n",
    "spectrum_time_ch2_unscaled=np.arange(0,N_POINTS)\n",
    "calibration_time_ch2_unscaled=np.arange(0,N_POINTS)"
   ]
  },
  {
   "cell_type": "code",
   "execution_count": 5,
   "metadata": {},
   "outputs": [],
   "source": [
    "#scaling paramiters\n",
    "\n",
    "SPECTRUM_CH1_XZERO=-0.093\n",
    "SPECTRUM_CH1_XINCR=0.000000040\n",
    "SPECTRUM_CH1_YZERO=0\n",
    "SPECTRUM_CH1_YMULT=1\n",
    "\n",
    "SPECTRUM_CH2_XZERO=0\n",
    "SPECTRUM_CH2_XINCR=1\n",
    "SPECTRUM_CH2_YZERO=0\n",
    "SPECTRUM_CH2_YMULT=1\n",
    "\n",
    "CALIBRATION_CH1_XZERO=-0.093\n",
    "CALIBRATION_CH1_XINCR=0.000000040\n",
    "CALIBRATION_CH1_YZERO=0\n",
    "CALIBRATION_CH1_YMULT=1\n",
    "\n",
    "CALIBRATION_CH2_XZERO=0\n",
    "CALIBRATION_CH2_XINCR=1\n",
    "CALIBRATION_CH2_YZERO=0\n",
    "CALIBRATION_CH2_YMULT=1"
   ]
  },
  {
   "cell_type": "code",
   "execution_count": 6,
   "metadata": {},
   "outputs": [],
   "source": [
    "#scaling data\n",
    "mean_spectrum_ch1=(SPECTRUM_CH1_YMULT*mean_spectrum_ch1_unscaled)+SPECTRUM_CH1_YZERO\n",
    "mean_spectrum_ch2=(SPECTRUM_CH2_YMULT*mean_spectrum_ch2_unscaled)+SPECTRUM_CH2_YZERO\n",
    "\n",
    "mean_calibration_ch1=(CALIBRATION_CH1_YMULT*mean_calibration_ch1_unscaled)+CALIBRATION_CH1_YZERO\n",
    "mean_calibration_ch2=(CALIBRATION_CH2_YMULT*mean_calibration_ch2_unscaled)+CALIBRATION_CH2_YZERO\n",
    "\n",
    "spectrum_time_ch1=(SPECTRUM_CH1_XINCR*spectrum_time_ch1_unscaled)+SPECTRUM_CH1_XZERO\n",
    "spectrum_time_ch2=(SPECTRUM_CH1_XINCR*spectrum_time_ch2_unscaled)+SPECTRUM_CH2_XZERO\n",
    "\n",
    "calibration_time_ch1=(CALIBRATION_CH1_XINCR*calibration_time_ch1_unscaled)+CALIBRATION_CH1_XZERO\n",
    "calibration_time_ch2=(CALIBRATION_CH2_XINCR*calibration_time_ch2_unscaled)+CALIBRATION_CH2_XZERO\n",
    "\n",
    "std_spectrum_ch1=(SPECTRUM_CH1_YMULT*std_spectrum_ch1_unscaled)+SPECTRUM_CH1_YZERO\n",
    "std_spectrum_ch2=(SPECTRUM_CH2_YMULT*std_spectrum_ch2_unscaled)+SPECTRUM_CH2_YZERO\n",
    "\n",
    "std_calibration_ch1=(CALIBRATION_CH1_YMULT*std_calibration_ch1_unscaled)+CALIBRATION_CH1_YZERO\n",
    "std_calibration_ch2=(CALIBRATION_CH2_YMULT*std_calibration_ch2_unscaled)+CALIBRATION_CH2_YZERO"
   ]
  },
  {
   "cell_type": "code",
   "execution_count": null,
   "metadata": {},
   "outputs": [],
   "source": [
    "#plot all the data\n",
    "plt.scatter(calibration_time_ch1,mean_calibration_ch1,marker=',',alpha=2**(-8))\n",
    "plt.show()"
   ]
  },
  {
   "cell_type": "code",
   "execution_count": null,
   "metadata": {},
   "outputs": [],
   "source": [
    "plt.hexbin(calibration_time_ch1,mean_calibration_ch1)\n",
    "plt.show()"
   ]
  },
  {
   "cell_type": "code",
   "execution_count": null,
   "metadata": {},
   "outputs": [],
   "source": [
    "#plot zoomed in region and it looks actually quite good i think the above plot is \"saturated\"\n",
    "plt.subplots(figsize=(10, 10))\n",
    "plt.scatter(calibration_time_ch1[2500000:3000000],mean_calibration_ch1[2500000:3000000],marker='.',alpha=1/256)\n",
    "plt.show()"
   ]
  },
  {
   "cell_type": "code",
   "execution_count": null,
   "metadata": {},
   "outputs": [],
   "source": [
    "#work out averages by grouping\n",
    "\n",
    "N_GROUPS=5000\n",
    "group_step_ch1=N_POINTS//N_GROUPS\n",
    "#group_step_ch2=(calibration_time_ch1.size)//N_GROUPS\n",
    "\n",
    "mean_calibration_time_ch1=np.zeros(N_GROUPS)\n",
    "#mean_times_ch2=np.zeros(N_GROUPS)\n",
    "mean_mean_calibration_ch1=np.zeros(N_GROUPS)\n",
    "err_mean_calibration_ch1=np.zeros(N_GROUPS)\n",
    "\n",
    "w=1/(std_calibration_ch1/np.sqrt(N_MEASUREMENTS-1))**2\n",
    "x=mean_calibration_ch1\n",
    "\n",
    "for i in range(N_GROUPS):\n",
    "    mean_calibration_time_ch1[i]=np.mean(np.array(calibration_time_ch1[i*group_step_ch1:(i+1)*group_step_ch1]))\n",
    "    mean_mean_calibration_ch1[i]=np.sum(x[i*group_step_ch1:(i+1)*group_step_ch1]*w[i*group_step_ch1:(i+1)*group_step_ch1])/np.sum(w[i*group_step_ch1:(i+1)*group_step_ch1])\n",
    "    err_mean_calibration_ch1[i]=np.sqrt(1/np.sum(w[i*group_step_ch1:(i+1)*group_step_ch1]))\n",
    "\n",
    "\n",
    "#plt.errorbar(mean_times_ch2, mean_voltages_ch2,yerr=std_voltages_ch2,linestyle=\"\",marker='.')\n",
    "#plt.errorbar(mean_times_ch1, mean_voltages_ch1,yerr=std_voltages_ch1,linestyle=\"\",marker='.')\n",
    "plt.plot(mean_calibration_time_ch1,mean_mean_calibration_ch1)\n",
    "plt.fill_between(\n",
    "    x=mean_calibration_time_ch1,\n",
    "    y1=mean_mean_calibration_ch1+err_mean_calibration_ch1,\n",
    "    y2=mean_mean_calibration_ch1-err_mean_calibration_ch1,\n",
    "    alpha=0.5,\n",
    "    color='C0'\n",
    ")\n",
    "\n",
    "plt.xlabel('Time')\n",
    "plt.ylabel('Voltage')\n",
    "\n",
    "plt.show()"
   ]
  },
  {
   "cell_type": "code",
   "execution_count": null,
   "metadata": {},
   "outputs": [],
   "source": [
    "#zomed in error plot to see if the errors look apropriet and they look okay\n",
    "\n",
    "plt.errorbar(x=mean_calibration_time_ch1[530:570],y=mean_mean_calibration_ch1[530:570],yerr=err_mean_calibration_ch1[530:570],linestyle=\"\",marker='.')\n",
    "\n",
    "\n",
    "plt.xlabel('Time')\n",
    "plt.ylabel('Voltage')\n",
    "\n",
    "plt.show()"
   ]
  },
  {
   "cell_type": "code",
   "execution_count": null,
   "metadata": {},
   "outputs": [],
   "source": [
    "#now we are cropping the data\n",
    "ct=mean_calibration_time_ch1[1000:3700]\n",
    "cv=mean_mean_calibration_ch1[1000:3700]\n",
    "ce=err_mean_calibration_ch1[1000:3700]\n",
    "\n",
    "plt.plot(ct,cv)\n",
    "plt.show()"
   ]
  },
  {
   "cell_type": "code",
   "execution_count": null,
   "metadata": {},
   "outputs": [],
   "source": [
    "#function to fit, at a guess its the sum of a quadrosoinal plus a quadratic\n",
    "def fit(t,A0,B0,B1,B2,C0,C1,C2):\n",
    "    return (A0)*(np.sin(B2*t**2+B1*t+B0))+(C2*t**2+C1*t+C0)\n",
    "    \n",
    "p0=[1,-2,250,0.1,-5,0.1,0.1]\n",
    "\n",
    "plt.plot(ct,cv)\n",
    "plt.plot(ct,fit(ct,*p0))\n",
    "plt.show()"
   ]
  },
  {
   "cell_type": "code",
   "execution_count": null,
   "metadata": {},
   "outputs": [],
   "source": [
    "#optimise paramiters\n",
    "popt,pcov=curve_fit(\n",
    "    f=fit,\n",
    "    xdata=ct,\n",
    "    ydata=cv,\n",
    "    p0=p0,\n",
    "    sigma=ce,\n",
    "    absolute_sigma=True\n",
    ")\n",
    "\n",
    "plt.plot(ct,cv)\n",
    "plt.plot(ct,fit(ct,*popt))\n",
    "plt.show()\n",
    "\n",
    "print(popt)\n",
    "\n"
   ]
  },
  {
   "cell_type": "code",
   "execution_count": null,
   "metadata": {},
   "outputs": [],
   "source": [
    "#plotting residuals\n",
    "plt.plot(ct,(cv-fit(ct,*popt))/ce)\n",
    "plt.show()\n",
    "\n",
    "print(\"reduced chi squared =\",np.sum(((cv-fit(ct,*popt))/ce)**2)/(len(ct)-len(p0)))"
   ]
  },
  {
   "cell_type": "code",
   "execution_count": null,
   "metadata": {},
   "outputs": [],
   "source": [
    "#since we dont have channel 2 dataa we cant calculate the frequency at a given voltage however we can calculate the frequency at a given time and since the voltage settings wernt touched between the two measurements this should cancel out it also means that from now on we dont need to measure the voltage we can just set just measure the calibration and the spectum at the smae time i think but this might not be a good idea because of the fact we wont be able to zero our data but i dont even know if we want to do that in the first place arnt we just measuring the detuning\n",
    "\n",
    "#extract the values from the osciliscope\n",
    "A0,B0,B1,B2,C0,C1,C2=u.correlated_values(popt,pcov)\n",
    "\n",
    "print(A0,B0,B1,B2,C0,C1,C2)\n",
    "\n",
    "#the lenghts of the arms of the osciliscope\n",
    "L1=ufloat(0.075,0.003)\n",
    "L2=ufloat(0.37,0.002)\n",
    "\n",
    "#the detuning of the laser ie the change of the lasers frequency from t=0\n",
    "#this comes from the following\n",
    "    #the phase difference is phi=2pi 2(L1-L2)/wavelength\n",
    "    #                           =4pi(L1-L2)f/c\n",
    "    # so  f=c*phi/(4*pi*(L1-L2))\n",
    "    #     d=c*delta_phi/(4*pi*(L1-L2))\n",
    "def d(t):\n",
    "    return (constants.c*(B2*t**2+B1*t)/(4*np.pi*(L1-L2)))\n",
    "    \n"
   ]
  },
  {
   "cell_type": "code",
   "execution_count": null,
   "metadata": {},
   "outputs": [],
   "source": [
    "#plot the detuning we expect it roughly be a straight line\n",
    "plt.plot(ct,unp.nominal_values(d(ct)))\n",
    "plt.fill_between(\n",
    "    x=ct,\n",
    "    y1=unp.nominal_values(d(ct))+unp.std_devs(d(ct)),\n",
    "    y2=unp.nominal_values(d(ct))-unp.std_devs(d(ct)),\n",
    "    alpha=0.5\n",
    ")\n",
    "plt.show()"
   ]
  },
  {
   "cell_type": "code",
   "execution_count": null,
   "metadata": {},
   "outputs": [],
   "source": [
    "#plot all the data\n",
    "plt.scatter(spectrum_time_ch1,mean_spectrum_ch1,marker='.',alpha=1/256)\n",
    "plt.show()"
   ]
  },
  {
   "cell_type": "code",
   "execution_count": null,
   "metadata": {},
   "outputs": [],
   "source": [
    "#work out averages by grouping\n",
    "\n",
    "N_GROUPS=5000\n",
    "group_step_ch1=N_POINTS//N_GROUPS\n",
    "#group_step_ch2=(spectrum_time_ch1.size)//N_GROUPS\n",
    "\n",
    "mean_spectrum_time_ch1=np.zeros(N_GROUPS)\n",
    "#mean_times_ch2=np.zeros(N_GROUPS)\n",
    "mean_mean_spectrum_ch1=np.zeros(N_GROUPS)\n",
    "err_mean_spectrum_ch1=np.zeros(N_GROUPS)\n",
    "\n",
    "w=1/(std_spectrum_ch1/np.sqrt(N_MEASUREMENTS-1))**2\n",
    "x=mean_spectrum_ch1\n",
    "\n",
    "for i in range(N_GROUPS):\n",
    "    mean_spectrum_time_ch1[i]=np.mean(np.array(spectrum_time_ch1[i*group_step_ch1:(i+1)*group_step_ch1]))\n",
    "    mean_mean_spectrum_ch1[i]=np.sum(x[i*group_step_ch1:(i+1)*group_step_ch1]*w[i*group_step_ch1:(i+1)*group_step_ch1])/np.sum(w[i*group_step_ch1:(i+1)*group_step_ch1])\n",
    "    err_mean_spectrum_ch1[i]=np.sqrt(1/np.sum(w[i*group_step_ch1:(i+1)*group_step_ch1]))\n",
    "\n",
    "\n",
    "#plt.errorbar(mean_times_ch2, mean_voltages_ch2,yerr=std_voltages_ch2,linestyle=\"\",marker='.')\n",
    "#plt.errorbar(mean_times_ch1, mean_voltages_ch1,yerr=std_voltages_ch1,linestyle=\"\",marker='.')\n",
    "plt.plot(mean_spectrum_time_ch1,mean_mean_spectrum_ch1)\n",
    "plt.fill_between(\n",
    "    x=mean_spectrum_time_ch1,\n",
    "    y1=mean_mean_spectrum_ch1+err_mean_spectrum_ch1,\n",
    "    y2=mean_mean_spectrum_ch1-err_mean_spectrum_ch1,\n",
    "    alpha=0.5,\n",
    "    color='C0'\n",
    ")\n",
    "\n",
    "plt.xlabel('Time')\n",
    "plt.ylabel('Voltage')\n",
    "\n",
    "plt.show()"
   ]
  },
  {
   "cell_type": "code",
   "execution_count": null,
   "metadata": {},
   "outputs": [],
   "source": [
    "#now we are cropping the data\n",
    "st=mean_spectrum_time_ch1[1000:3700]\n",
    "sv=mean_mean_spectrum_ch1[1000:3700]\n",
    "se=err_mean_spectrum_ch1[1000:3700]\n",
    "\n",
    "plt.plot(st,sv)\n",
    "plt.show()"
   ]
  },
  {
   "cell_type": "code",
   "execution_count": null,
   "metadata": {},
   "outputs": [],
   "source": [
    "plt.plot(unp.nominal_values(d(st)),sv)\n",
    "plt.show()"
   ]
  },
  {
   "cell_type": "code",
   "execution_count": null,
   "metadata": {},
   "outputs": [],
   "source": [
    "lines=np.array((4276860822,4119920198,4047698166,1750408413,1687008583,1657635082,-1164683076,-1285324026,-1348723856,-2291169811,-2557821789,-2714762413))\n",
    "\n",
    "fre=unp.nominal_values(d(st))\n",
    "\n",
    "peaks,_=find_peaks(sv,10)\n",
    "\n",
    "\n",
    "\n",
    "mylines=np.sort(fre[peaks])\n",
    "    \n",
    "\n",
    "lines-= lines[-5]\n",
    "\n",
    "\n",
    "    \n",
    "plt.plot(fre,sv)\n",
    "\n",
    "for line in lines:\n",
    "    plt.plot([line,line],[-50,50],color='C1',linestyle='--')\n",
    "    \n",
    "for line in mylines:\n",
    "    plt.plot([line,line],[-50,40],color='C0',linestyle='--')"
   ]
  },
  {
   "cell_type": "code",
   "execution_count": null,
   "metadata": {},
   "outputs": [],
   "source": [
    "xs=np.arange(-len(sv)//2,len(sv)//2)/len(sv)#scale by adding \"/\" and frequecny difference between ajacent pixels on the previouse plot\n",
    "ys=np.abs(np.fft.fftshift(np.fft.fft(sv)))**2\n",
    "print(len(xs))\n",
    "\n",
    "plt.plot(xs[1340:1360],ys[1340:1360])"
   ]
  },
  {
   "cell_type": "code",
   "execution_count": null,
   "metadata": {},
   "outputs": [],
   "source": [
    "plt.plot(np.pad(sv,(len(sv)),mode=\"symmetric\"))"
   ]
  },
  {
   "cell_type": "code",
   "execution_count": null,
   "metadata": {},
   "outputs": [],
   "source": [
    "plt.plot(sv)"
   ]
  },
  {
   "cell_type": "code",
   "execution_count": null,
   "metadata": {},
   "outputs": [],
   "source": []
  }
 ],
 "metadata": {
  "kernelspec": {
   "display_name": "Python 3 (ipykernel)",
   "language": "python",
   "name": "python3"
  },
  "language_info": {
   "codemirror_mode": {
    "name": "ipython",
    "version": 3
   },
   "file_extension": ".py",
   "mimetype": "text/x-python",
   "name": "python",
   "nbconvert_exporter": "python",
   "pygments_lexer": "ipython3",
   "version": "3.11.3"
  }
 },
 "nbformat": 4,
 "nbformat_minor": 2
}
