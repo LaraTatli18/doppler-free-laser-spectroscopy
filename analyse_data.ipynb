{
 "cells": [
  {
   "cell_type": "code",
   "execution_count": 2,
   "metadata": {},
   "outputs": [],
   "source": [
    "import numpy as np\n",
    "import matplotlib.pyplot as plt\n",
    "import uncertainties as u"
   ]
  },
  {
   "cell_type": "code",
   "execution_count": 14,
   "metadata": {},
   "outputs": [],
   "source": [
    "#file locations\n",
    "CALIBRATION_DIR = \"calibration_dat_28_11z\\\\\"\n",
    "SPECTRUM_DIR = \"spectrum_data_28_11\\\\\"\n",
    "\n",
    "#measurement info\n",
    "N_MEASUREMENTS = 100\n",
    "N_POINTS= 5000000"
   ]
  },
  {
   "cell_type": "code",
   "execution_count": 20,
   "metadata": {},
   "outputs": [
    {
     "ename": "FileNotFoundError",
     "evalue": "[Errno 2] No such file or directory: 'spectrum_data_28_11\\\\ch1_1.bin'",
     "output_type": "error",
     "traceback": [
      "\u001b[1;31m---------------------------------------------------------------------------\u001b[0m",
      "\u001b[1;31mFileNotFoundError\u001b[0m                         Traceback (most recent call last)",
      "Cell \u001b[1;32mIn[20], line 7\u001b[0m\n\u001b[0;32m      4\u001b[0m mean_spectrum_ch2\u001b[38;5;241m=\u001b[39mnp\u001b[38;5;241m.\u001b[39mzeros(N_POINTS)\n\u001b[0;32m      6\u001b[0m \u001b[38;5;28;01mfor\u001b[39;00m i \u001b[38;5;129;01min\u001b[39;00m \u001b[38;5;28mrange\u001b[39m(\u001b[38;5;241m1\u001b[39m,N_MEASUREMENTS\u001b[38;5;241m-\u001b[39m\u001b[38;5;241m1\u001b[39m):\n\u001b[1;32m----> 7\u001b[0m     mean_spectrum_ch1\u001b[38;5;241m+\u001b[39m\u001b[38;5;241m=\u001b[39mnp\u001b[38;5;241m.\u001b[39mfromfile(SPECTRUM_DIR\u001b[38;5;241m+\u001b[39m\u001b[38;5;124m\"\u001b[39m\u001b[38;5;124mch1_\u001b[39m\u001b[38;5;132;01m{}\u001b[39;00m\u001b[38;5;124m.bin\u001b[39m\u001b[38;5;124m\"\u001b[39m\u001b[38;5;241m.\u001b[39mformat(i),dtype\u001b[38;5;241m=\u001b[39m\u001b[38;5;124m'\u001b[39m\u001b[38;5;124mint8\u001b[39m\u001b[38;5;124m'\u001b[39m)\n\u001b[0;32m      8\u001b[0m     mean_spectrum_ch2\u001b[38;5;241m+\u001b[39m\u001b[38;5;241m=\u001b[39mnp\u001b[38;5;241m.\u001b[39mfromfile(SPECTRUM_DIR\u001b[38;5;241m+\u001b[39m\u001b[38;5;124m\"\u001b[39m\u001b[38;5;124mch2_\u001b[39m\u001b[38;5;132;01m{}\u001b[39;00m\u001b[38;5;124m.bin\u001b[39m\u001b[38;5;124m\"\u001b[39m\u001b[38;5;241m.\u001b[39mformat(i),dtype\u001b[38;5;241m=\u001b[39m\u001b[38;5;124m'\u001b[39m\u001b[38;5;124mint8\u001b[39m\u001b[38;5;124m'\u001b[39m)\n\u001b[0;32m     10\u001b[0m mean_spectrum_ch1\u001b[38;5;241m=\u001b[39mmean_spectrum_ch1\u001b[38;5;241m/\u001b[39mN_MEASUREMENTS\n",
      "\u001b[1;31mFileNotFoundError\u001b[0m: [Errno 2] No such file or directory: 'spectrum_data_28_11\\\\ch1_1.bin'"
     ]
    }
   ],
   "source": [
    "#Calculate the mean and standard deviations of both data sets\n",
    "\n",
    "#calculating means\n",
    "mean_spectrum_ch1_unscaled=np.zeros(N_POINTS)\n",
    "mean_spectrum_ch2_unscaled=np.zeros(N_POINTS)\n",
    "mean_calibration_ch1_unscaled=np.zeros(N_POINTS)\n",
    "mean_calibration_ch2_unscaled=np.zeros(N_POINTS)\n",
    "\n",
    "#sum values\n",
    "for i in range(N_MEASUREMENTS):\n",
    "    mean_spectrum_ch1_unscaled+=np.fromfile(SPECTRUM_DIR+\"ch1_{}.bin\".format(i),dtype='int8')\n",
    "    mean_spectrum_ch2_unscaled+=np.fromfile(SPECTRUM_DIR+\"ch2_{}.bin\".format(i),dtype='int8')\n",
    "    mean_calibration_ch1_unscaled+=np.fromfile(CALIBRATION_DIR+\"ch1_{}.bin\".format(i),dtype='int8')\n",
    "    mean_calibration_ch2_unscaled+=np.fromfile(CALIBRATION_DIR+\"ch2_{}.bin\".format(i),dtype='int8')\n",
    "\n",
    "#divide by number of values\n",
    "mean_spectrum_ch1_unscaled=mean_spectrum_ch1_unscaled/N_MEASUREMENTS\n",
    "mean_spectrum_ch2_unscaled=mean_spectrum_ch2_unscaled/N_MEASUREMENTS\n",
    "mean_calibration_ch1_unscaled=mean_calibration_ch1_unscaled/N_MEASUREMENTS\n",
    "mean_calibration_ch2_unscaled=mean_calibration_ch2_unscaled/N_MEASUREMENTS\n",
    "\n",
    "#calculating standard deviations\n",
    "std_spectrum_ch1_unscaled=np.zeros(N_POINTS)\n",
    "std_spectrum_ch2_unscaled=np.zeros(N_POINTS)\n",
    "std_calibration_ch1_unscaled=np.zeros(N_POINTS)\n",
    "std_calibration_ch2_unscaled=np.zeros(N_POINTS)\n",
    "\n",
    "#sum deviations squared\n",
    "for i in range(N_MEASUREMENTS):\n",
    "    std_spectrum_ch1_unscaled+=(np.fromfile(SPECTRUM_DIR+\"ch1_{}.bin\".format(i),dtype='int8')-mean_spectrum_ch1_unscaled)**2\n",
    "    std_spectrum_ch2_unscaled+=(np.fromfile(SPECTRUM_DIR+\"ch2_{}.bin\".format(i),dtype='int8')-mean_spectrum_ch2_unscaled)**2\n",
    "    std_calibration_ch1_unscaled+=(np.fromfile(CALIBRATION_DIR+\"ch1_{}.bin\".format(i),dtype='int8')-mean_calibration_ch1_unscaled)**2\n",
    "    std_calibration_ch2_unscaled+=(np.fromfile(CALIBRATION_DIR+\"ch2_{}.bin\".format(i),dtype='int8')-mean_calibration_ch2_unscaled)**2\n",
    "\n",
    "#divide by the degrees of freedom\n",
    "std_spectrum_ch1=mean_spectrum_ch1_unscaled/(N_MEASUREMENTS-1)\n",
    "std_spectrum_ch2=mean_spectrum_ch2_unscaled/(N_MEASUREMENTS-1)\n",
    "std_calibration_ch1=mean_calibration_ch1_unscaled/(N_MEASUREMENTS-1)\n",
    "std_calibration_ch2=mean_calibration_ch2_unscaled/(N_MEASUREMENTS-1)"
   ]
  },
  {
   "cell_type": "code",
   "execution_count": null,
   "metadata": {},
   "outputs": [],
   "source": [
    "#generate unscaled time data\n",
    "\n",
    "spectrum_time_ch1_unscaled=np.arange(0,N_POINTS)\n",
    "calibration_time_ch1_unscaled=np.arange(0,N_POINTS)\n",
    "spectrum_time_ch2_unscaled=np.arange(0,N_POINTS)\n",
    "calibration_time_ch2_unscaled=np.arange(0,N_POINTS)"
   ]
  },
  {
   "cell_type": "code",
   "execution_count": null,
   "metadata": {},
   "outputs": [],
   "source": [
    "#scaling paramiters\n",
    "\n",
    "SPECTRUM_CH1_XZERO=0\n",
    "SPECTRUM_CH1_XINCR=1\n",
    "SPECTRUM_CH1_YZERO=0\n",
    "SPECTRUM_CH1_YMULT=1\n",
    "\n",
    "SPECTRUM_CH2_XZERO=0\n",
    "SPECTRUM_CH2_XINCR=1\n",
    "SPECTRUM_CH2_YZERO=0\n",
    "SPECTRUM_CH2_YMULT=1\n",
    "\n",
    "CALIBRATION_CH1_XZERO=0\n",
    "CALIBRATION_CH1_XINCR=1\n",
    "CALIBRATION_CH1_YZERO=0\n",
    "CALIBRATION_CH1_YMULT=1\n",
    "\n",
    "CALIBRATION_CH2_XZERO=0\n",
    "CALIBRATION_CH2_XINCR=1\n",
    "CALIBRATION_CH2_YZERO=0\n",
    "CALIBRATION_CH2_YMULT=1"
   ]
  },
  {
   "cell_type": "code",
   "execution_count": null,
   "metadata": {},
   "outputs": [],
   "source": [
    "#scaling data\n",
    "\n",
    "mean_spectrum_ch1=(SPECTRUM_CH1_YMULT*mean_spectrum_ch1_unscaled)+SPECTRUM_CH1_YZERO\n",
    "mean_spectrum_ch2=(SPECTRUM_CH2_YMULT*mean_spectrum_ch2_unscaled)+SPECTRUM_CH2_YZERO\n",
    "\n",
    "mean_calibration_ch1=(CALIBRATION_CH1_YMULT*mean_calibration_ch1_unscaled)+CALIBRATION_CH1_YZERO\n",
    "mean_calibration_ch2=(CALIBRATION_CH2_YMULT*mean_calibration_ch2_unscaled)+CALIBRATION_CH2_YZERO\n",
    "\n",
    "spectrum_time_ch1=(SPECTRUM_CH1_XINCR*spectrum_time_ch1_unscaled)+SPECTRUM_CH1_XZERO\n",
    "spectrum_time_ch2=(SPECTRUM_CH1_XINCR*spectrum_time_ch2_unscaled)+SPECTRUM_CH2_XZERO\n",
    "\n",
    "calibration_time_ch1=(CALIBRATION_CH1_XINCR*calibration_time_ch1_unscaled)+CALIBRATION_CH1_XZERO\n",
    "calibration_time_ch2=(CALIBRATION_CH2_XINCR*calibration_time_ch2_unscaled)+CALIBRATION_CH2_XZERO"
   ]
  },
  {
   "cell_type": "code",
   "execution_count": null,
   "metadata": {},
   "outputs": [],
   "source": []
  }
 ],
 "metadata": {
  "kernelspec": {
   "display_name": "Python 3 (ipykernel)",
   "language": "python",
   "name": "python3"
  },
  "language_info": {
   "codemirror_mode": {
    "name": "ipython",
    "version": 3
   },
   "file_extension": ".py",
   "mimetype": "text/x-python",
   "name": "python",
   "nbconvert_exporter": "python",
   "pygments_lexer": "ipython3",
   "version": "3.11.3"
  }
 },
 "nbformat": 4,
 "nbformat_minor": 2
}
